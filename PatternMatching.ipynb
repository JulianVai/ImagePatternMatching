{
 "cells": [
  {
   "cell_type": "code",
   "execution_count": 27,
   "metadata": {},
   "outputs": [],
   "source": [
    "import random"
   ]
  },
  {
   "cell_type": "code",
   "execution_count": 28,
   "metadata": {},
   "outputs": [],
   "source": [
    "coding = list(\"0123456789abcdefghijklmnopqrstuvwxyzABCDEFGHIJKLMNOPQRSTVWXYZ\")"
   ]
  },
  {
   "cell_type": "code",
   "execution_count": 38,
   "metadata": {},
   "outputs": [],
   "source": [
    "def create_image(image_width, image_height):\n",
    "    # create rows\n",
    "    image = []\n",
    "    for k in range(image_height):\n",
    "        row = []\n",
    "        for i in range(image_width):\n",
    "            pix = random.choice(coding)\n",
    "            row.append(pix)\n",
    "        string = \"\".join(row)\n",
    "        image.append(string)\n",
    "    return image"
   ]
  },
  {
   "cell_type": "code",
   "execution_count": 34,
   "metadata": {},
   "outputs": [],
   "source": [
    "test = ['m', 't', 'E']"
   ]
  },
  {
   "cell_type": "code",
   "execution_count": 37,
   "metadata": {},
   "outputs": [
    {
     "data": {
      "text/plain": [
       "'mtE'"
      ]
     },
     "execution_count": 37,
     "metadata": {},
     "output_type": "execute_result"
    }
   ],
   "source": [
    "\"\".join(test)"
   ]
  },
  {
   "cell_type": "code",
   "execution_count": 117,
   "metadata": {},
   "outputs": [],
   "source": [
    "image = create_image(20,20)"
   ]
  },
  {
   "cell_type": "code",
   "execution_count": 118,
   "metadata": {},
   "outputs": [
    {
     "data": {
      "text/plain": [
       "['c4NTnQp8MEiID9dyn8n2',\n",
       " '13upGZmXhJW8acNxFdmO',\n",
       " 'dIQiZkSH13b32phqB3hL',\n",
       " '5aWq59QS9ofNcB0ls6JZ',\n",
       " 'gdr2v9BczveEBhmf0L49',\n",
       " 'jmFOChWdJyWZJLA0vCp9',\n",
       " '9jiqONaF0XIDAreYx1i5',\n",
       " 'GmExGaFrIRjOnIsk0oX5',\n",
       " 'H5Opsmu5TmqFb8cKccAR',\n",
       " 'YMdPIDbuYmRp2oKsdnTk',\n",
       " 'NQwHL2ZRkcZj7GeItR4X',\n",
       " 'fmC7qFHGY8w1b19nptHA',\n",
       " 'IyEqIZ5AHrPxNLJYcZLh',\n",
       " 'eaiHo01BHYChETre207V',\n",
       " 'kjQujBY5gABoVC52P5JV',\n",
       " 'Tz9h82rQLgXKf43Ya03s',\n",
       " 'HGX09Eo8SOGCkDo14qaR',\n",
       " 'sTxsfuQqIu22hn9mLvoN',\n",
       " 'vOAyD0y6fim8D6atlG7Q',\n",
       " 'lBBP11bdgOe85SyGdMH2']"
      ]
     },
     "execution_count": 118,
     "metadata": {},
     "output_type": "execute_result"
    }
   ],
   "source": [
    "image"
   ]
  },
  {
   "cell_type": "code",
   "execution_count": 119,
   "metadata": {},
   "outputs": [],
   "source": [
    "pattern = [\"L2\",\n",
    "           \"qF\",]"
   ]
  },
  {
   "cell_type": "code",
   "execution_count": 122,
   "metadata": {},
   "outputs": [],
   "source": [
    "def find_pattern(image_width, image_height, image, pattern_width, pattern_height, pattern):\n",
    "    h_range = list(range(0,pattern_height-1))  \n",
    "        \n",
    "    for i in range(image_height-pattern_height):\n",
    "        row = image[i]\n",
    "        for h in range(image_width-pattern_width+1):\n",
    "            ups_s = row[h:h+pattern_width]\n",
    "            \n",
    "            downs = []\n",
    "            for k in range(pattern_height-1):\n",
    "                down_s = image[i+k+1][h:h+pattern_width]\n",
    "                downs.append(down_s)\n",
    "            sub_patt = [ups_s] + downs\n",
    "            if pattern == sub_patt:\n",
    "                return print(f\"Match on {h,i}\")\n",
    "            "
   ]
  },
  {
   "cell_type": "code",
   "execution_count": 123,
   "metadata": {},
   "outputs": [
    {
     "name": "stdout",
     "output_type": "stream",
     "text": [
      "Match on (4, 10)\n"
     ]
    }
   ],
   "source": [
    "find_pattern(20,20, image,2,2,pattern)"
   ]
  },
  {
   "cell_type": "code",
   "execution_count": 80,
   "metadata": {},
   "outputs": [
    {
     "data": {
      "text/plain": [
       "['4rO6bQ5Bv',\n",
       " 'aLbMpFYiF',\n",
       " 'dQyHvj4VI',\n",
       " 'fuPOVC1Vb',\n",
       " '7VZeAdZWO',\n",
       " '4Kd4gBF1j',\n",
       " 'Ae5jcJaRq',\n",
       " 'VTf7glG9q',\n",
       " 'p82dL1BQm']"
      ]
     },
     "execution_count": 80,
     "metadata": {},
     "output_type": "execute_result"
    }
   ],
   "source": [
    "['4rO6bQ5Bv',\n",
    " 'aLbMpFYiF',\n",
    " 'dQyHvj4VI',\n",
    " 'fuPOVC1Vb',\n",
    " '7VZeAdZWO',\n",
    " '4Kd4gBF1j',\n",
    " 'Ae5jcJaRq',\n",
    " 'VTf7glG9q',\n",
    " 'p82dL1BQm']"
   ]
  },
  {
   "cell_type": "code",
   "execution_count": 93,
   "metadata": {},
   "outputs": [
    {
     "name": "stdout",
     "output_type": "stream",
     "text": [
      "Match on (3, 2)\n"
     ]
    }
   ],
   "source": [
    "solve(9,9, image,3,3,pattern)"
   ]
  }
 ],
 "metadata": {
  "kernelspec": {
   "display_name": "Python 3",
   "language": "python",
   "name": "python3"
  },
  "language_info": {
   "codemirror_mode": {
    "name": "ipython",
    "version": 3
   },
   "file_extension": ".py",
   "mimetype": "text/x-python",
   "name": "python",
   "nbconvert_exporter": "python",
   "pygments_lexer": "ipython3",
   "version": "3.7.7"
  }
 },
 "nbformat": 4,
 "nbformat_minor": 4
}
